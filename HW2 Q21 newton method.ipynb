{
 "cells": [
  {
   "cell_type": "code",
   "execution_count": 1,
   "metadata": {},
   "outputs": [],
   "source": [
    "import math"
   ]
  },
  {
   "cell_type": "code",
   "execution_count": 2,
   "metadata": {},
   "outputs": [],
   "source": [
    "def f(x):\n",
    "    return (math.exp(x) + math.exp(-x)) * math.cos(x) + 2"
   ]
  },
  {
   "cell_type": "code",
   "execution_count": 3,
   "metadata": {},
   "outputs": [],
   "source": [
    "def f_prime(x):\n",
    "    return (math.exp(x) - math.exp(-x)) * math.cos(x) - (math.exp(x) + math.exp(-x)) * math.sin(x)"
   ]
  },
  {
   "cell_type": "code",
   "execution_count": 8,
   "metadata": {},
   "outputs": [],
   "source": [
    "def newton_method(x0, tolerance, max_iterations):\n",
    "    x = x0\n",
    "    for i in range(max_iterations):\n",
    "        fx = f(x)\n",
    "        if abs(fx) < tolerance:\n",
    "            return x\n",
    "        fpx = f_prime(x)\n",
    "        if fpx == 0:\n",
    "            break\n",
    "        x = x - fx / fpx\n",
    "        print(x)\n",
    "    return None"
   ]
  },
  {
   "cell_type": "code",
   "execution_count": 10,
   "metadata": {},
   "outputs": [
    {
     "name": "stdout",
     "output_type": "stream",
     "text": [
      "1.8852746749978897\n",
      "1.87517925423842\n",
      "1.8751040728613975\n",
      "Approximate solution: 1.8751040728613975\n"
     ]
    }
   ],
   "source": [
    "solution = newton_method(x0=2, tolerance=1e-6, max_iterations=1000)\n",
    "if solution is not None:\n",
    "    print(\"Approximate solution:\", solution)\n",
    "else:\n",
    "    print(\"Failed to converge\")"
   ]
  },
  {
   "cell_type": "code",
   "execution_count": null,
   "metadata": {},
   "outputs": [],
   "source": []
  }
 ],
 "metadata": {
  "kernelspec": {
   "display_name": "Python 3",
   "language": "python",
   "name": "python3"
  },
  "language_info": {
   "codemirror_mode": {
    "name": "ipython",
    "version": 3
   },
   "file_extension": ".py",
   "mimetype": "text/x-python",
   "name": "python",
   "nbconvert_exporter": "python",
   "pygments_lexer": "ipython3",
   "version": "3.8.5"
  }
 },
 "nbformat": 4,
 "nbformat_minor": 4
}
